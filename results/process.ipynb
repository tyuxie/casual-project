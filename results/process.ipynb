{
 "cells": [
  {
   "cell_type": "code",
   "execution_count": 1,
   "metadata": {},
   "outputs": [
    {
     "name": "stdout",
     "output_type": "stream",
     "text": [
      "& LATE & MLATE\\\\\n",
      "Method & $\\alpha_0$ & $\\alpha_1$ & $\\alpha_0$ & $\\alpha_1$\\\\\n",
      "mle.bth&4.55 (0.44) & 9.31 (0.93)&13.81 (0.81) & 18.33 (1.32)\\\\\n",
      "mle.opc&5.86 (0.48) & 11.94 (0.95)&16.47 (0.85) & 21.11 (1.35)\\\\\n",
      "mle.psc&5.86 (0.48) & 11.94 (0.95)&16.47 (0.85) & 21.11 (1.35)\\\\\n",
      "mle.bad&19.15 (0.69) & 2.80 (0.62)&41.28 (1.46) & 0.53 (1.05)\\\\\n",
      "dru.bth&0.95 (0.45) & 6.16 (1.04)&3.58 (1.00) & 9.75 (1.79)\\\\\n",
      "dru.opc&1.21 (0.43) & 4.55 (0.97)&0.02 (1.05) & 10.78 (1.99)\\\\\n",
      "dru.psc&1.21 (0.43) & 4.55 (0.97)&0.02 (1.05) & 10.78 (1.99)\\\\\n",
      "dru.bad&15.25 (0.70) & 29.99 (1.80)&25.23 (1.43) & 17.30 (2.56)\\\\\n",
      "drw.bth&0.29 (1.04) & 1.55 (1.20)&3.04 (1.24) & 4.75 (1.77)\\\\\n",
      "drw.opc&3.71 (1.27) & 0.63 (1.45)&0.30 (1.10) & 6.39 (1.78)\\\\\n",
      "drw.psc&3.71 (1.27) & 0.63 (1.45)&0.30 (1.10) & 6.39 (1.78)\\\\\n",
      "drw.bad&10.97 (0.56) & 13.68 (1.19)&29.54 (1.65) & 4.18 (2.59)\\\\\n"
     ]
    }
   ],
   "source": [
    "import torch\n",
    "import math\n",
    "\n",
    "##simulation\n",
    "print('& LATE & MLATE\\\\\\\\')\n",
    "print('Method & $\\\\alpha_0$ & $\\\\alpha_1$ & $\\\\alpha_0$ & $\\\\alpha_1$\\\\\\\\')\n",
    "for method in ['mle', 'dru', 'drw']:\n",
    "    for mis in ['bth', 'opc', 'psc', 'bad']:\n",
    "        print('{}.{}&'.format(method, mis), end='')\n",
    "        for estimator in ['LATE', 'MLATE']:\n",
    "            result = torch.load('{}_{}_{}.pt'.format(method, mis, estimator))\n",
    "            bias = torch.abs(result.mean(0) - torch.tensor([0.0,-1.0])) * 100\n",
    "            std = torch.sqrt(torch.mean((result - torch.tensor([0.0,-1.0]))**2, 0)) / math.sqrt(result.shape[0]) * 100\n",
    "            print('{:.02f} ({:.02f}) & '.format(bias[0].item(), std[0].item()), end='')\n",
    "            print('{:.02f} ({:.02f})'.format(bias[1].item(), std[1].item()), end='')\n",
    "            if estimator == 'LATE':\n",
    "                print('&',end='')\n",
    "        print('\\\\\\\\')"
   ]
  },
  {
   "cell_type": "code",
   "execution_count": 2,
   "metadata": {},
   "outputs": [],
   "source": [
    "## real_data\n",
    "from scipy.stats import norm\n",
    "real_mlealphas = torch.load('real_mlealphas.pt')\n",
    "real_drwalphas = torch.load('real_drwalphas.pt')\n",
    "mle_mean = torch.mean(real_mlealphas, dim=0)\n",
    "drw_mean = torch.mean(real_drwalphas, dim=0)\n",
    "mle_std = torch.std(real_mlealphas, dim=0)\n",
    "drw_std = torch.std(real_drwalphas, dim=0)\n",
    "\n",
    "mle_LB = mle_mean + norm.ppf(0.025) * mle_std / math.sqrt(real_mlealphas.shape[0])\n",
    "mle_UB = mle_mean + norm.ppf(0.975) * mle_std / math.sqrt(real_mlealphas.shape[0])\n",
    "drw_LB = drw_mean + norm.ppf(0.025) * drw_std / math.sqrt(real_drwalphas.shape[0])\n",
    "drw_UB = drw_mean + norm.ppf(0.975) * drw_std / math.sqrt(real_drwalphas.shape[0])\n",
    "\n",
    "LB = torch.stack((mle_LB, drw_LB), dim=0)\n",
    "UB = torch.stack((mle_UB, drw_UB), dim=0)"
   ]
  },
  {
   "cell_type": "code",
   "execution_count": 7,
   "metadata": {},
   "outputs": [
    {
     "name": "stderr",
     "output_type": "stream",
     "text": [
      "/var/folders/0g/zs2cqb497_d8fxff8rh3qghm0000gn/T/ipykernel_40596/2822529581.py:6: UserWarning: color is redundantly defined by the 'color' keyword argument and the fmt string \"ro-\" (-> color='r'). The keyword argument will take precedence.\n",
      "  plt.plot((lower,upper),(y,y),'ro-',color='blue')\n"
     ]
    },
    {
     "data": {
      "image/png": "[encoded data removed]",
      "text/plain": [
       "<Figure size 432x144 with 1 Axes>"
      ]
     },
     "metadata": {
      "needs_background": "light"
     },
     "output_type": "display_data"
    },
    {
     "data": {
      "image/png": "[encoded data removed]",
      "text/plain": [
       "<Figure size 432x144 with 1 Axes>"
      ]
     },
     "metadata": {
      "needs_background": "light"
     },
     "output_type": "display_data"
    },
    {
     "data": {
      "image/png": "[encoded data removed]",
      "text/plain": [
       "<Figure size 432x144 with 1 Axes>"
      ]
     },
     "metadata": {
      "needs_background": "light"
     },
     "output_type": "display_data"
    },
    {
     "data": {
      "image/png": "[encoded data removed]",
      "text/plain": [
       "<Figure size 432x144 with 1 Axes>"
      ]
     },
     "metadata": {
      "needs_background": "light"
     },
     "output_type": "display_data"
    },
    {
     "data": {
      "image/png": "[encoded data removed]",
      "text/plain": [
       "<Figure size 432x144 with 1 Axes>"
      ]
     },
     "metadata": {
      "needs_background": "light"
     },
     "output_type": "display_data"
    },
    {
     "data": {
      "image/png": "[encoded data removed]",
      "text/plain": [
       "<Figure size 432x144 with 1 Axes>"
      ]
     },
     "metadata": {
      "needs_background": "light"
     },
     "output_type": "display_data"
    }
   ],
   "source": [
    "import matplotlib.pyplot as plt\n",
    "titles = ['Intercept', 'income(/1000)', 'marriage status', 'age(/10)', 'family size', 'income(/1000)^2']\n",
    "for i in range(LB.shape[1]):\n",
    "    plt.figure(figsize=(6,2))\n",
    "    for lower, upper, y in zip(LB[:,i].tolist(), UB[:,i].tolist(), [0,1]):\n",
    "        plt.plot((lower,upper),(y,y),'ro-',color='blue')\n",
    "    plt.yticks([0,1], ['mle', 'drw'])\n",
    "    plt.xlim((-1,1))\n",
    "    plt.title(titles[i])\n",
    "    plt.savefig(str(i)+'.eps')\n",
    "    plt.show()"
   ]
  },
  {
   "cell_type": "code",
   "execution_count": 14,
   "metadata": {},
   "outputs": [
    {
     "data": {
      "text/plain": [
       "(tensor([ 0.0335, -0.3901, -0.0147,  0.0430,  0.1391,  0.7530]),\n",
       " tensor([-0.1389, -0.5943, -0.1874, -0.0226,  0.0699,  0.5929]))"
      ]
     },
     "execution_count": 14,
     "metadata": {},
     "output_type": "execute_result"
    }
   ],
   "source": [
    "drw_UB,drw_LB"
   ]
  },
  {
   "cell_type": "code",
   "execution_count": null,
   "metadata": {},
   "outputs": [],
   "source": []
  }
 ],
 "metadata": {
  "interpreter": {
   "hash": "40d3a090f54c6569ab1632332b64b2c03c39dcf918b08424e98f38b5ae0af88f"
  },
  "kernelspec": {
   "display_name": "Python 3.8.8 ('base')",
   "language": "python",
   "name": "python3"
  },
  "language_info": {
   "codemirror_mode": {
    "name": "ipython",
    "version": 3
   },
   "file_extension": ".py",
   "mimetype": "text/x-python",
   "name": "python",
   "nbconvert_exporter": "python",
   "pygments_lexer": "ipython3",
   "version": "3.8.8"
  },
  "orig_nbformat": 4
 },
 "nbformat": 4,
 "nbformat_minor": 2
}
