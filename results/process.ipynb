{
 "cells": [
  {
   "cell_type": "code",
   "execution_count": 1,
   "metadata": {},
   "outputs": [
    {
     "name": "stdout",
     "output_type": "stream",
     "text": [
      "& LATE & MLATE\\\\\n",
      "Method & $\\alpha_0$ & $\\alpha_1$ & $\\alpha_0$ & $\\alpha_1$\\\\\n",
      "mle.bth&4.55 (0.44) & 9.31 (0.93)&13.81 (0.81) & 18.33 (1.32)\\\\\n",
      "mle.opc&5.86 (0.48) & 11.94 (0.95)&16.47 (0.85) & 21.11 (1.35)\\\\\n",
      "mle.psc&5.86 (0.48) & 11.94 (0.95)&16.47 (0.85) & 21.11 (1.35)\\\\\n",
      "mle.bad&19.15 (0.69) & 2.80 (0.62)&41.28 (1.46) & 0.53 (1.05)\\\\\n",
      "dru.bth&0.95 (0.45) & 6.16 (1.04)&3.58 (1.00) & 9.75 (1.79)\\\\\n",
      "dru.opc&1.21 (0.43) & 4.55 (0.97)&0.02 (1.05) & 10.78 (1.99)\\\\\n",
      "dru.psc&1.21 (0.43) & 4.55 (0.97)&0.02 (1.05) & 10.78 (1.99)\\\\\n",
      "dru.bad&15.25 (0.70) & 29.99 (1.80)&25.23 (1.43) & 17.30 (2.56)\\\\\n",
      "drw.bth&0.29 (1.04) & 1.55 (1.20)&3.04 (1.24) & 4.75 (1.77)\\\\\n",
      "drw.opc&3.71 (1.27) & 0.63 (1.45)&0.30 (1.10) & 6.39 (1.78)\\\\\n",
      "drw.psc&3.71 (1.27) & 0.63 (1.45)&0.30 (1.10) & 6.39 (1.78)\\\\\n",
      "drw.bad&10.97 (0.56) & 13.68 (1.19)&29.54 (1.65) & 4.18 (2.59)\\\\\n"
     ]
    }
   ],
   "source": [
    "import torch\n",
    "import math\n",
    "\n",
    "##simulation\n",
    "print('& LATE & MLATE\\\\\\\\')\n",
    "print('Method & $\\\\alpha_0$ & $\\\\alpha_1$ & $\\\\alpha_0$ & $\\\\alpha_1$\\\\\\\\')\n",
    "for method in ['mle', 'dru', 'drw']:\n",
    "    for mis in ['bth', 'opc', 'psc', 'bad']:\n",
    "        print('{}.{}&'.format(method, mis), end='')\n",
    "        for estimator in ['LATE', 'MLATE']:\n",
    "            result = torch.load('{}_{}_{}.pt'.format(method, mis, estimator))\n",
    "            bias = torch.abs(result.mean(0) - torch.tensor([0.0,-1.0])) * 100\n",
    "            std = torch.sqrt(torch.mean((result - torch.tensor([0.0,-1.0]))**2, 0)) / math.sqrt(result.shape[0]) * 100\n",
    "            print('{:.02f} ({:.02f}) & '.format(bias[0].item(), std[0].item()), end='')\n",
    "            print('{:.02f} ({:.02f})'.format(bias[1].item(), std[1].item()), end='')\n",
    "            if estimator == 'LATE':\n",
    "                print('&',end='')\n",
    "        print('\\\\\\\\')"
   ]
  },
  {
   "cell_type": "code",
   "execution_count": 2,
   "metadata": {},
   "outputs": [
    {
     "name": "stdout",
     "output_type": "stream",
     "text": [
      "tensor([[ 19, 367, 484, 390,  17, 484],\n",
      "        [484,  26, 217, 491, 375, 448],\n",
      "        [448, 400, 416, 225, 337, 416],\n",
      "        ...,\n",
      "        [278, 484, 143, 448, 390, 473],\n",
      "        [213, 448, 356, 484, 285, 400],\n",
      "        [ 40,  19, 376,  19, 473, 367]])\n"
     ]
    }
   ],
   "source": [
    "## real_data\n",
    "from scipy.stats import norm\n",
    "real_mlealphas = torch.load('real_mlealphas.pt')\n",
    "real_drwalphas = torch.load('real_drwalphas.pt')\n",
    "\n",
    "sort_idx_mle = torch.argsort(real_mlealphas, dim=0)\n",
    "sort_idx_drw = torch.argsort(real_drwalphas, dim=0)\n",
    "# sort_idx_mle = sort_idx_mle[5:-5]\n",
    "# sort_idx_drw = sort_idx_drw[5:-5]\n",
    "print(sort_idx_mle)\n",
    "mle_LB = real_mlealphas.gather(dim=0, index=sort_idx_mle[-25].unsqueeze(0)).squeeze()\n",
    "mle_UB = real_mlealphas.gather(dim=0, index=sort_idx_mle[25].unsqueeze(0)).squeeze()\n",
    "drw_LB = real_drwalphas.gather(dim=0, index=sort_idx_drw[-25].unsqueeze(0)).squeeze()\n",
    "drw_UB = real_drwalphas.gather(dim=0, index=sort_idx_drw[25].unsqueeze(0)).squeeze()\n",
    "# mle_mean = torch.mean(real_mlealphas, dim=0)\n",
    "# drw_mean = torch.mean(real_drwalphas, dim=0)\n",
    "# mle_std = torch.std(real_mlealphas, dim=0)\n",
    "# drw_std = torch.std(real_drwalphas, dim=0)\n",
    "\n",
    "# mle_LB = mle_mean + norm.ppf(0.025) * mle_std / math.sqrt(real_mlealphas.shape[0])\n",
    "# mle_UB = mle_mean + norm.ppf(0.975) * mle_std / math.sqrt(real_mlealphas.shape[0])\n",
    "# drw_LB = drw_mean + norm.ppf(0.025) * drw_std / math.sqrt(real_drwalphas.shape[0])\n",
    "# drw_UB = drw_mean + norm.ppf(0.975) * drw_std / math.sqrt(real_drwalphas.shape[0])\n",
    "\n",
    "LB = torch.stack((mle_LB, drw_LB), dim=0)\n",
    "UB = torch.stack((mle_UB, drw_UB), dim=0)"
   ]
  },
  {
   "cell_type": "code",
   "execution_count": 4,
   "metadata": {},
   "outputs": [
    {
     "name": "stderr",
     "output_type": "stream",
     "text": [
      "The PostScript backend does not support transparency; partially transparent artists will be rendered opaque.\n"
     ]
    },
    {
     "data": {
      "image/png": "[encoded data removed]",
      "text/plain": [
       "<Figure size 432x144 with 1 Axes>"
      ]
     },
     "metadata": {
      "needs_background": "light"
     },
     "output_type": "display_data"
    },
    {
     "name": "stderr",
     "output_type": "stream",
     "text": [
      "The PostScript backend does not support transparency; partially transparent artists will be rendered opaque.\n"
     ]
    },
    {
     "data": {
      "image/png": "[encoded data removed]",
      "text/plain": [
       "<Figure size 432x144 with 1 Axes>"
      ]
     },
     "metadata": {
      "needs_background": "light"
     },
     "output_type": "display_data"
    },
    {
     "name": "stderr",
     "output_type": "stream",
     "text": [
      "The PostScript backend does not support transparency; partially transparent artists will be rendered opaque.\n"
     ]
    },
    {
     "data": {
      "image/png": "[encoded data removed]",
      "text/plain": [
       "<Figure size 432x144 with 1 Axes>"
      ]
     },
     "metadata": {
      "needs_background": "light"
     },
     "output_type": "display_data"
    },
    {
     "name": "stderr",
     "output_type": "stream",
     "text": [
      "The PostScript backend does not support transparency; partially transparent artists will be rendered opaque.\n"
     ]
    },
    {
     "data": {
      "image/png": "[encoded data removed]",
      "text/plain": [
       "<Figure size 432x144 with 1 Axes>"
      ]
     },
     "metadata": {
      "needs_background": "light"
     },
     "output_type": "display_data"
    },
    {
     "name": "stderr",
     "output_type": "stream",
     "text": [
      "The PostScript backend does not support transparency; partially transparent artists will be rendered opaque.\n"
     ]
    },
    {
     "data": {
      "image/png": "[encoded data removed]",
      "text/plain": [
       "<Figure size 432x144 with 1 Axes>"
      ]
     },
     "metadata": {
      "needs_background": "light"
     },
     "output_type": "display_data"
    },
    {
     "name": "stderr",
     "output_type": "stream",
     "text": [
      "The PostScript backend does not support transparency; partially transparent artists will be rendered opaque.\n"
     ]
    },
    {
     "data": {
      "image/png": "[encoded data removed]",
      "text/plain": [
       "<Figure size 432x144 with 1 Axes>"
      ]
     },
     "metadata": {
      "needs_background": "light"
     },
     "output_type": "display_data"
    }
   ],
   "source": [
    "import matplotlib.pyplot as plt\n",
    "titles = ['Intercept', 'inc(/1000)', 'marr', 'age(/10)', 'fsize', 'inc(/1000)^2']\n",
    "for i in range(LB.shape[1]):\n",
    "    plt.figure(figsize=(6,2))\n",
    "    for lower, upper, y in zip(LB[:,i].tolist(), UB[:,i].tolist(), [0,1]):\n",
    "        if y==1:\n",
    "            plt.plot((lower,upper),(y,y),'|-',color='blue', alpha=0.5)\n",
    "        else:\n",
    "            plt.plot((lower,upper),(y,y),'|-',color='red', alpha=0.5)\n",
    "    plt.yticks([0,1], ['mle', 'drw'])\n",
    "    if i == 0:\n",
    "        plt.xlim((-3,3))\n",
    "    elif i == 1:\n",
    "        plt.xlim((-3,3))\n",
    "    elif i == 2:\n",
    "        plt.xlim((-2,2))\n",
    "    elif i == 3:\n",
    "        plt.xlim((-0.6,0.6))\n",
    "    elif i == 4:\n",
    "        plt.xlim((-0.4,1))\n",
    "    elif i == 5:\n",
    "        plt.xlim((-1,4))\n",
    "    # plt.xlim((-10,10))\n",
    "    plt.ylim((-0.2,1.2))\n",
    "    plt.title(titles[i])\n",
    "    plt.savefig(str(i)+'.eps')\n",
    "    plt.show()"
   ]
  },
  {
   "cell_type": "code",
   "execution_count": 5,
   "metadata": {},
   "outputs": [
    {
     "name": "stderr",
     "output_type": "stream",
     "text": [
      "The PostScript backend does not support transparency; partially transparent artists will be rendered opaque.\n"
     ]
    },
    {
     "data": {
      "image/png": "[encoded data removed]",
      "text/plain": [
       "<Figure size 504x216 with 1 Axes>"
      ]
     },
     "metadata": {
      "needs_background": "light"
     },
     "output_type": "display_data"
    },
    {
     "name": "stderr",
     "output_type": "stream",
     "text": [
      "The PostScript backend does not support transparency; partially transparent artists will be rendered opaque.\n"
     ]
    },
    {
     "data": {
      "image/png": "[encoded data removed]",
      "text/plain": [
       "<Figure size 504x216 with 1 Axes>"
      ]
     },
     "metadata": {
      "needs_background": "light"
     },
     "output_type": "display_data"
    },
    {
     "name": "stderr",
     "output_type": "stream",
     "text": [
      "The PostScript backend does not support transparency; partially transparent artists will be rendered opaque.\n"
     ]
    },
    {
     "data": {
      "image/png": "[encoded data removed]",
      "text/plain": [
       "<Figure size 504x216 with 1 Axes>"
      ]
     },
     "metadata": {
      "needs_background": "light"
     },
     "output_type": "display_data"
    },
    {
     "name": "stderr",
     "output_type": "stream",
     "text": [
      "The PostScript backend does not support transparency; partially transparent artists will be rendered opaque.\n"
     ]
    },
    {
     "data": {
      "image/png": "[encoded data removed]",
      "text/plain": [
       "<Figure size 504x216 with 1 Axes>"
      ]
     },
     "metadata": {
      "needs_background": "light"
     },
     "output_type": "display_data"
    },
    {
     "name": "stderr",
     "output_type": "stream",
     "text": [
      "The PostScript backend does not support transparency; partially transparent artists will be rendered opaque.\n"
     ]
    },
    {
     "data": {
      "image/png": "[encoded data removed]",
      "text/plain": [
       "<Figure size 504x216 with 1 Axes>"
      ]
     },
     "metadata": {
      "needs_background": "light"
     },
     "output_type": "display_data"
    },
    {
     "name": "stderr",
     "output_type": "stream",
     "text": [
      "The PostScript backend does not support transparency; partially transparent artists will be rendered opaque.\n"
     ]
    },
    {
     "data": {
      "image/png": "[encoded data removed]",
      "text/plain": [
       "<Figure size 504x216 with 1 Axes>"
      ]
     },
     "metadata": {
      "needs_background": "light"
     },
     "output_type": "display_data"
    }
   ],
   "source": [
    "LB = [\n",
    "    [-0.4, -0.36, -0.52, -1.99, -0.23],\n",
    "    [-1.32,-1.4, -4.1,  -2.2, -2.48],\n",
    "    [-0.27, -0.31, -0.33,  -0.59, -0.27],\n",
    "    [-0.1, -0.12, -0.22, -0.15, -0.11],\n",
    "    [-0.005, -0.01, -0.005,  -0.02, -0.01],\n",
    "    [-0.25, -0.25, -0.85, -1.62, -0.18]\n",
    "]\n",
    "UB = [\n",
    "    [0.7, 0.74, 1.7, 1.1, 1.45],\n",
    "    [0.6, 0.7, 1.65, 2.6, 0.3],\n",
    "    [0.2, 0.16, 0.31, 0.48, 0.14],\n",
    "    [0.045, 0.045, 0.025, 0.28, 0.06],\n",
    "    [0.14, 0.135, 0.19, 0.29, 0.125],\n",
    "    [1, 1.1, 2.55, 1.15, 1.5]\n",
    "]\n",
    "LB = torch.tensor(LB).T\n",
    "UB = torch.tensor(UB).T\n",
    "for i in range(LB.shape[1]):\n",
    "    plt.figure(figsize=(7,3))\n",
    "    for lower, upper, y in zip(LB[:,i].tolist(), UB[:,i].tolist(), [0,1,2,3,4]):\n",
    "        if y==1:\n",
    "            plt.plot((lower,upper),(y,y),'|-',color='blue', alpha=0.5)\n",
    "        elif y==0:\n",
    "            plt.plot((lower,upper),(y,y),'|-',color='red', alpha=0.5)\n",
    "        elif y==2:\n",
    "            plt.plot((lower,upper),(y,y),'|-',color='g', alpha=0.5)\n",
    "        elif y==3:\n",
    "            plt.plot((lower,upper),(y,y),'|-',color='y', alpha=0.5)\n",
    "        elif y==4:\n",
    "            plt.plot((lower,upper),(y,y),'|-',color='k', alpha=0.5)\n",
    "    plt.yticks([0,1,2,3,4], ['mle', 'drw', 'dru.ogburn',  'ls.abadie', 'mle.crude'])\n",
    "    #plt.xlim((-1,6))\n",
    "    plt.ylim((-1, 5))\n",
    "    plt.title(titles[i])\n",
    "    plt.savefig('all' +str(i)+'.eps')\n",
    "    plt.show()"
   ]
  },
  {
   "cell_type": "code",
   "execution_count": 29,
   "metadata": {},
   "outputs": [],
   "source": [
    "data = torch.load('../codes/401k.pt')\n",
    "data[:,1] /= 100\n",
    "data[:,4] /= 10\n",
    "data[:,9] /= 10000\n",
    "X = torch.cat((torch.ones((data.shape[0],1)), data[:, [1,2,3,5,9]]), dim=-1)\n",
    "X_marr = torch.median(X[X[:,2] > 0.5], dim=0)[0]\n",
    "X_unmarr = torch.median(X[X[:,2] < 0.5], dim=0)[0]\n",
    "drw_MLATE_marr = torch.exp(X_marr @ real_drwalphas.T)\n",
    "mle_MLATE_marr = torch.exp(X_marr @ real_mlealphas.T)\n",
    "drw_MLATE_unmarr = torch.exp(X_unmarr @ real_drwalphas.T)\n",
    "mle_MLATE_unmarr = torch.exp(X_unmarr @ real_mlealphas.T)"
   ]
  },
  {
   "cell_type": "code",
   "execution_count": 31,
   "metadata": {},
   "outputs": [
    {
     "data": {
      "text/plain": [
       "(tensor([1.0000, 0.4051, 1.0000, 0.0000, 4.0000, 0.1641]),\n",
       " tensor([1.0000, 0.2372, 0.0000, 0.0000, 1.0000, 0.0563]))"
      ]
     },
     "execution_count": 31,
     "metadata": {},
     "output_type": "execute_result"
    }
   ],
   "source": [
    "X_marr, X_unmarr"
   ]
  },
  {
   "cell_type": "code",
   "execution_count": 30,
   "metadata": {},
   "outputs": [
    {
     "name": "stdout",
     "output_type": "stream",
     "text": [
      "tensor(4.1024) tensor(0.3922)\n",
      "tensor(2.3900) tensor(0.5561)\n",
      "tensor(2.3072) tensor(0.2844)\n",
      "tensor(1.7441) tensor(0.6587)\n"
     ]
    }
   ],
   "source": [
    "for tsr in [drw_MLATE_marr, mle_MLATE_marr, drw_MLATE_unmarr, mle_MLATE_unmarr]:\n",
    "    idx = torch.argsort(tsr)\n",
    "    print(tsr[idx[-50]], tsr[idx[50]])"
   ]
  },
  {
   "cell_type": "code",
   "execution_count": 23,
   "metadata": {},
   "outputs": [
    {
     "name": "stderr",
     "output_type": "stream",
     "text": [
      "The PostScript backend does not support transparency; partially transparent artists will be rendered opaque.\n"
     ]
    },
    {
     "data": {
      "image/png": "[encoded data removed]",
      "text/plain": [
       "<Figure size 504x216 with 1 Axes>"
      ]
     },
     "metadata": {
      "needs_background": "light"
     },
     "output_type": "display_data"
    },
    {
     "name": "stderr",
     "output_type": "stream",
     "text": [
      "The PostScript backend does not support transparency; partially transparent artists will be rendered opaque.\n"
     ]
    },
    {
     "data": {
      "image/png": "[encoded data removed]",
      "text/plain": [
       "<Figure size 504x216 with 1 Axes>"
      ]
     },
     "metadata": {
      "needs_background": "light"
     },
     "output_type": "display_data"
    }
   ],
   "source": [
    "LB = [\n",
    "    [0.98, 0.96, 1.04, 0.91, 1.12],\n",
    "    [0.83, 0.84, 0.79, 0.53, 1.01]\n",
    "]\n",
    "UB = [\n",
    "    [1.33, 1.32, 1.53, 1.72, 1.64],\n",
    "    [1.24, 1.26, 1.49, 1.60, 1.84]\n",
    "]\n",
    "LB = torch.tensor(LB).T\n",
    "UB = torch.tensor(UB).T\n",
    "titles = ['Typical married', 'Typical single']\n",
    "for i in range(LB.shape[1]):\n",
    "    plt.figure(figsize=(7,3))\n",
    "    for lower, upper, y in zip(LB[:,i].tolist(), UB[:,i].tolist(), [0,1,2,3,4]):\n",
    "        if y==1:\n",
    "            plt.plot((lower,upper),(y,y),'|-',color='blue', alpha=0.5)\n",
    "        elif y==0:\n",
    "            plt.plot((lower,upper),(y,y),'|-',color='red', alpha=0.5)\n",
    "        elif y==2:\n",
    "            plt.plot((lower,upper),(y,y),'|-',color='g', alpha=0.5)\n",
    "        elif y==3:\n",
    "            plt.plot((lower,upper),(y,y),'|-',color='y', alpha=0.5)\n",
    "        elif y==4:\n",
    "            plt.plot((lower,upper),(y,y),'|-',color='k', alpha=0.5)\n",
    "    plt.yticks([0,1,2,3,4], ['mle', 'drw', 'dru.ogburn',  'ls.abadie', 'mle.crude'])\n",
    "    #plt.xlim((-1,6))\n",
    "    plt.ylim((-1, 5))\n",
    "    plt.title(titles[i])\n",
    "    plt.savefig('typical' +str(i)+'.eps')\n",
    "    plt.show()"
   ]
  },
  {
   "cell_type": "code",
   "execution_count": null,
   "metadata": {},
   "outputs": [],
   "source": []
  }
 ],
 "metadata": {
  "interpreter": {
   "hash": "40d3a090f54c6569ab1632332b64b2c03c39dcf918b08424e98f38b5ae0af88f"
  },
  "kernelspec": {
   "display_name": "Python 3.8.8 ('base')",
   "language": "python",
   "name": "python3"
  },
  "language_info": {
   "codemirror_mode": {
    "name": "ipython",
    "version": 3
   },
   "file_extension": ".py",
   "mimetype": "text/x-python",
   "name": "python",
   "nbconvert_exporter": "python",
   "pygments_lexer": "ipython3",
   "version": "3.8.8"
  },
  "orig_nbformat": 4
 },
 "nbformat": 4,
 "nbformat_minor": 2
}
