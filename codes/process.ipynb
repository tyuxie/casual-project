{
 "cells": [
  {
   "cell_type": "code",
   "execution_count": 1,
   "metadata": {},
   "outputs": [],
   "source": [
    "import torch\n",
    "import torch.nn as nn\n",
    "\n",
    "real_drwalphas = []\n",
    "real_mlealphas = []\n",
    "for i in range(1,6):\n",
    "    real_drwalphas.append(torch.load('real_drwalpha{}.pt'.format(i)))\n",
    "    real_mlealphas.append(torch.load('real_mlealpha{}.pt'.format(i)))\n",
    "real_drwalphas = torch.cat(real_drwalphas, dim=0)\n",
    "real_mlealphas = torch.cat(real_mlealphas, dim=0)\n",
    "\n",
    "torch.save(real_mlealphas, '../results/real_mlealphas.pt')\n",
    "torch.save(real_drwalphas, '../results/real_drwalphas.pt')"
   ]
  },
  {
   "cell_type": "markdown",
   "metadata": {},
   "source": []
  },
  {
   "cell_type": "code",
   "execution_count": null,
   "metadata": {},
   "outputs": [],
   "source": []
  }
 ],
 "metadata": {
  "interpreter": {
   "hash": "40d3a090f54c6569ab1632332b64b2c03c39dcf918b08424e98f38b5ae0af88f"
  },
  "kernelspec": {
   "display_name": "Python 3.8.8 ('base')",
   "language": "python",
   "name": "python3"
  },
  "language_info": {
   "codemirror_mode": {
    "name": "ipython",
    "version": 3
   },
   "file_extension": ".py",
   "mimetype": "text/x-python",
   "name": "python",
   "nbconvert_exporter": "python",
   "pygments_lexer": "ipython3",
   "version": "3.8.8"
  },
  "orig_nbformat": 4
 },
 "nbformat": 4,
 "nbformat_minor": 2
}
